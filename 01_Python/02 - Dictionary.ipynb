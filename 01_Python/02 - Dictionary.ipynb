{
 "cells": [
  {
   "cell_type": "markdown",
   "id": "increased-contact",
   "metadata": {},
   "source": [
    "# Python Dictionaries (dict)"
   ]
  },
  {
   "cell_type": "markdown",
   "id": "rational-intermediate",
   "metadata": {},
   "source": [
    "What is a dict? A dictionary, a map, a lookup table."
   ]
  },
  {
   "cell_type": "code",
   "execution_count": null,
   "id": "pretty-affiliation",
   "metadata": {},
   "outputs": [],
   "source": [
    "fruit_colours = {\n",
    "    'apple': 'red',\n",
    "    'pear': 'green',\n",
    "    'banana': 'yellow'\n",
    "}"
   ]
  },
  {
   "cell_type": "markdown",
   "id": "polar-sound",
   "metadata": {},
   "source": [
    "**[??] What colour is a pear?**"
   ]
  },
  {
   "cell_type": "code",
   "execution_count": null,
   "id": "expected-tender",
   "metadata": {},
   "outputs": [],
   "source": [
    "# TODO"
   ]
  },
  {
   "cell_type": "markdown",
   "id": "usual-villa",
   "metadata": {},
   "source": [
    "## Example: Square numbers"
   ]
  },
  {
   "cell_type": "code",
   "execution_count": 1,
   "id": "confused-sweet",
   "metadata": {},
   "outputs": [],
   "source": [
    "def square(x):\n",
    "    return x**2"
   ]
  },
  {
   "cell_type": "code",
   "execution_count": 2,
   "id": "distinct-residence",
   "metadata": {},
   "outputs": [
    {
     "data": {
      "text/plain": [
       "9"
      ]
     },
     "execution_count": 2,
     "metadata": {},
     "output_type": "execute_result"
    }
   ],
   "source": [
    "square(3)"
   ]
  },
  {
   "cell_type": "code",
   "execution_count": null,
   "id": "moving-makeup",
   "metadata": {},
   "outputs": [],
   "source": [
    "some_squares = {} # Create an empty map\n",
    "for i in range(2, 10):\n",
    "    some_squares[i] = square(i)\n",
    "    \n",
    "print(some_squares)"
   ]
  },
  {
   "cell_type": "markdown",
   "id": "patent-pharmacy",
   "metadata": {},
   "source": [
    "# Exercise: Create your own dictionary!\n",
    "Create a function, anything you wish. Then use it to make a map.\n",
    "Need inspriration? Length of words, any mathematical function, capitalise, reverse string"
   ]
  },
  {
   "cell_type": "code",
   "execution_count": null,
   "id": "referenced-editing",
   "metadata": {},
   "outputs": [],
   "source": [
    "# Create empty map\n",
    "# Assign values\n",
    "# Print!"
   ]
  },
  {
   "cell_type": "markdown",
   "id": "female-morgan",
   "metadata": {},
   "source": [
    "## Dict Comprehension\n",
    "Like list comprehensions, dict comprehensions can be used to create dicts on the fly, e.g. create a mapping from x to f(x).\n",
    "\n",
    "Examples: https://www.python.org/dev/peps/pep-0274/#examples"
   ]
  },
  {
   "cell_type": "code",
   "execution_count": null,
   "id": "generous-treasure",
   "metadata": {},
   "outputs": [],
   "source": [
    "some_squares2 = { i: square(i) for i in range(2, 10) }\n",
    "print(some_squares2)"
   ]
  },
  {
   "cell_type": "code",
   "execution_count": null,
   "id": "deadly-battlefield",
   "metadata": {},
   "outputs": [],
   "source": [
    "# Is our dict comprehension the same as before?\n",
    "some_squares2 == some_squares"
   ]
  },
  {
   "cell_type": "markdown",
   "id": "designed-lounge",
   "metadata": {},
   "source": [
    "### Word lengths\n",
    "\n",
    "Remember the word length code in the last exercise? Try and write code to create a map of word to word length!\n",
    "\n",
    "Example word_lengths:\n",
    "\n",
    "* 3 -> dog\n",
    "* 5 -> brown"
   ]
  },
  {
   "cell_type": "code",
   "execution_count": null,
   "id": "professional-revision",
   "metadata": {},
   "outputs": [],
   "source": []
  }
 ],
 "metadata": {
  "kernelspec": {
   "display_name": "Python 3",
   "language": "python",
   "name": "python3"
  },
  "language_info": {
   "codemirror_mode": {
    "name": "ipython",
    "version": 3
   },
   "file_extension": ".py",
   "mimetype": "text/x-python",
   "name": "python",
   "nbconvert_exporter": "python",
   "pygments_lexer": "ipython3",
   "version": "3.9.1"
  }
 },
 "nbformat": 4,
 "nbformat_minor": 5
}
