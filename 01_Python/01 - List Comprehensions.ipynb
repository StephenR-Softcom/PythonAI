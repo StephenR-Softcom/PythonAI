{
 "cells": [
  {
   "cell_type": "markdown",
   "id": "descending-colombia",
   "metadata": {},
   "source": [
    "# List Comprehensions\n",
    "Contains parts from https://www.learnpython.org/en/List_Comprehensions"
   ]
  },
  {
   "cell_type": "markdown",
   "id": "fuzzy-force",
   "metadata": {},
   "source": [
    "## Example: Word Lengths\n",
    "Find the length of each word, except 'the'"
   ]
  },
  {
   "cell_type": "markdown",
   "id": "comparative-russian",
   "metadata": {},
   "source": [
    "### \"Classic\" / For-Loop Style"
   ]
  },
  {
   "cell_type": "code",
   "execution_count": null,
   "id": "incomplete-management",
   "metadata": {},
   "outputs": [],
   "source": [
    "sentence = \"the quick brown fox jumps over the lazy dog\"\n",
    "words = sentence.split()\n",
    "\n",
    "word_lengths = []\n",
    "for word in words:\n",
    "    if word != \"the\":\n",
    "        word_lengths.append(len(word))\n",
    "        \n",
    "print(words)\n",
    "print(word_lengths)"
   ]
  },
  {
   "cell_type": "markdown",
   "id": "dressed-decimal",
   "metadata": {},
   "source": [
    "### List comprehension\n",
    "List comprehensions are a useful way to map and filter lists using a special syntax.\n",
    "\n",
    "* `myNewList = [ doSomething(item) for item in list ]`\n",
    "* `myNewFilteredList = [ doSomething(item) for item in list if isMatch(item) ]`"
   ]
  },
  {
   "cell_type": "code",
   "execution_count": null,
   "id": "lesbian-might",
   "metadata": {},
   "outputs": [],
   "source": [
    "sentence = \"the quick brown fox jumps over the lazy dog\"\n",
    "words = sentence.split()\n",
    "\n",
    "# List comprehension:\n",
    "words_no_the = [w for w in words if w != \"the\"]\n",
    "word_lengths = [len(word) for word in words_no_the]\n",
    "\n",
    "print(words_no_the)\n",
    "print(word_lengths)"
   ]
  },
  {
   "cell_type": "code",
   "execution_count": null,
   "id": "pleasant-consumer",
   "metadata": {},
   "outputs": [],
   "source": [
    "# Pretty print version\n",
    "col_width = max(word_lengths) + 2\n",
    "for w, length in zip(words_no_the, word_lengths):\n",
    "    print(f\"{w.ljust(col_width)}\\t{str(length)}\")"
   ]
  },
  {
   "cell_type": "markdown",
   "id": "organic-heaven",
   "metadata": {},
   "source": [
    "## Exercise: Positive numbers\n",
    "\n",
    "Using a list comprehension, create a new list called \"newlist\" out of the list \"numbers\", which contains only the positive numbers from the list."
   ]
  },
  {
   "cell_type": "code",
   "execution_count": null,
   "id": "incorporated-three",
   "metadata": {},
   "outputs": [],
   "source": [
    "numbers = [34.6, -203.4, 44.9, 68.3, -12.2, 44.6, 12.7]"
   ]
  },
  {
   "cell_type": "code",
   "execution_count": null,
   "id": "induced-diesel",
   "metadata": {},
   "outputs": [],
   "source": [
    "newlist = [] # TODO: Implement!"
   ]
  },
  {
   "cell_type": "code",
   "execution_count": null,
   "id": "satisfactory-translator",
   "metadata": {},
   "outputs": [],
   "source": [
    "print(newlist)"
   ]
  },
  {
   "cell_type": "code",
   "execution_count": null,
   "id": "union-least",
   "metadata": {},
   "outputs": [],
   "source": [
    "# Test\n",
    "rightLength = len(newlist) == len(numbers)\n",
    "rightNumbers = all([x >= 0 for x in newlist])\n",
    "\n",
    "if not rightLength:\n",
    "    print(\"Wrong. The list has the wrong length\")\n",
    "if not rightNumbers:\n",
    "    print(\"Wrong. The list must only contain positive numbers\")\n",
    "if rightLength and rightNumbers:\n",
    "    print(\"Correct!\")"
   ]
  },
  {
   "cell_type": "markdown",
   "id": "israeli-specific",
   "metadata": {},
   "source": [
    "### Bonus: Same exercise, your own way\n",
    "How else can you achieve the same result? Hint: Filtering and mapping are good functional methods!"
   ]
  },
  {
   "cell_type": "code",
   "execution_count": null,
   "id": "operating-trigger",
   "metadata": {},
   "outputs": [],
   "source": [
    "# TODO Implement your logic"
   ]
  },
  {
   "cell_type": "code",
   "execution_count": null,
   "id": "guided-voltage",
   "metadata": {},
   "outputs": [],
   "source": []
  }
 ],
 "metadata": {
  "kernelspec": {
   "display_name": "Python 3",
   "language": "python",
   "name": "python3"
  },
  "language_info": {
   "codemirror_mode": {
    "name": "ipython",
    "version": 3
   },
   "file_extension": ".py",
   "mimetype": "text/x-python",
   "name": "python",
   "nbconvert_exporter": "python",
   "pygments_lexer": "ipython3",
   "version": "3.9.1"
  }
 },
 "nbformat": 4,
 "nbformat_minor": 5
}
