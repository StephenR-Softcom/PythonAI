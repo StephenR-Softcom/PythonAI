{
 "cells": [
  {
   "cell_type": "markdown",
   "id": "hourly-flavor",
   "metadata": {},
   "source": [
    "# Functional Python\n",
    "Some of the things we have done so far can be done using built-in functions. They might seem familar if you know Java Streams or LINQ from .NET"
   ]
  },
  {
   "cell_type": "code",
   "execution_count": null,
   "id": "selected-proxy",
   "metadata": {},
   "outputs": [],
   "source": [
    "numbers = list(range(1,10))\n",
    "print(numbers)"
   ]
  },
  {
   "cell_type": "markdown",
   "id": "super-august",
   "metadata": {},
   "source": [
    "## Lambda functions\n",
    "You may use \"real\" functions, or pass a lambda function directly inline if you wish. Lambda functions are often used for one-time use, simple functions."
   ]
  },
  {
   "cell_type": "code",
   "execution_count": null,
   "id": "received-hanging",
   "metadata": {},
   "outputs": [],
   "source": [
    "def myRealFunc(x):\n",
    "    return x + 1"
   ]
  },
  {
   "cell_type": "code",
   "execution_count": null,
   "id": "posted-chart",
   "metadata": {},
   "outputs": [],
   "source": [
    "myRealFunc(99)"
   ]
  },
  {
   "cell_type": "code",
   "execution_count": null,
   "id": "computational-animation",
   "metadata": {},
   "outputs": [],
   "source": [
    "# Normally we would pass this function to another one like filter or map\n",
    "# Here for demo...\n",
    "\n",
    "myLambdaFunc = lambda x: x + 1"
   ]
  },
  {
   "cell_type": "code",
   "execution_count": null,
   "id": "biblical-portugal",
   "metadata": {},
   "outputs": [],
   "source": [
    "myLambdaFunc(99)"
   ]
  },
  {
   "cell_type": "markdown",
   "id": "pleased-style",
   "metadata": {},
   "source": [
    "### Filter\n",
    "To filter an iterable, provide a predicate function (input x, output True/False) and the iterable (e.g. list)."
   ]
  },
  {
   "cell_type": "code",
   "execution_count": null,
   "id": "beneficial-navigator",
   "metadata": {},
   "outputs": [],
   "source": [
    "bigNumbers = filter(lambda x: x >= 5, numbers)\n",
    "bigNumbers"
   ]
  },
  {
   "cell_type": "code",
   "execution_count": null,
   "id": "bored-resistance",
   "metadata": {},
   "outputs": [],
   "source": [
    "# Filter has not yet been evaluated -> lazy. We must iterate to get results.\n",
    "list(bigNumbers)"
   ]
  },
  {
   "cell_type": "markdown",
   "id": "compact-innocent",
   "metadata": {},
   "source": [
    "### Exercise: Filter numbers >= 5"
   ]
  },
  {
   "cell_type": "code",
   "execution_count": null,
   "id": "stretch-straight",
   "metadata": {},
   "outputs": [],
   "source": [
    "bigNumbers = [] # TODO: implement your filter on 'numbers'\n",
    "\n",
    "bigNumbers = list(bigNumbers)\n",
    "bigNumbers"
   ]
  },
  {
   "cell_type": "code",
   "execution_count": null,
   "id": "measured-partner",
   "metadata": {},
   "outputs": [],
   "source": [
    "print(\"Correct?\", bigNumbers == [5, 6, 7, 8, 9])"
   ]
  },
  {
   "cell_type": "markdown",
   "id": "twenty-meditation",
   "metadata": {},
   "source": [
    "## Map\n",
    "Takes an iterable, applies a function to each item. You might recognise this as LINQ Select, \"map\" in JavaScript and RxJs Observables."
   ]
  },
  {
   "cell_type": "code",
   "execution_count": null,
   "id": "binding-extension",
   "metadata": {},
   "outputs": [],
   "source": [
    "def isBigNumber(x):\n",
    "    return x >= 5"
   ]
  },
  {
   "cell_type": "code",
   "execution_count": null,
   "id": "interior-package",
   "metadata": {},
   "outputs": [],
   "source": [
    "list(map(isBigNumber, numbers))"
   ]
  },
  {
   "cell_type": "markdown",
   "id": "imperial-computer",
   "metadata": {},
   "source": [
    "### Exercise: Double each number"
   ]
  },
  {
   "cell_type": "code",
   "execution_count": null,
   "id": "dying-packaging",
   "metadata": {},
   "outputs": [],
   "source": [
    "doubleNumbers = [] # TODO do your mapping here, on 'numbers'\n",
    "\n",
    "doubleNumbers = list(doubleNumbers)\n",
    "print(doubleNumbers)"
   ]
  },
  {
   "cell_type": "code",
   "execution_count": null,
   "id": "interim-thursday",
   "metadata": {},
   "outputs": [],
   "source": [
    "matches = [y == 2*x for x,y in zip(numbers, doubleNumbers)]\n",
    "print(\"Correct?\", len(doubleNumbers) == len(numbers) and all(matches))"
   ]
  },
  {
   "cell_type": "markdown",
   "id": "distinguished-cursor",
   "metadata": {},
   "source": [
    "## Zip\n",
    "Combine multiple iterables, element by element. Like a zip (fermeture éclaire). You can even combine different data types. The result is an iterable of *tuples*.\n",
    "\n",
    "PS: If you paid close attention, you just saw this one in the previous test!"
   ]
  },
  {
   "cell_type": "code",
   "execution_count": null,
   "id": "hungry-power",
   "metadata": {},
   "outputs": [],
   "source": [
    "names = ['Bob', 'Frank', 'Gordon']\n",
    "games = ['GTA', 'Guitar Hero', 'Half Life']"
   ]
  },
  {
   "cell_type": "code",
   "execution_count": null,
   "id": "annual-adaptation",
   "metadata": {},
   "outputs": [],
   "source": [
    "list(zip(names, games))"
   ]
  },
  {
   "cell_type": "code",
   "execution_count": null,
   "id": "behavioral-single",
   "metadata": {},
   "outputs": [],
   "source": [
    "ages = [18, 14, 41]"
   ]
  },
  {
   "cell_type": "code",
   "execution_count": null,
   "id": "fancy-finnish",
   "metadata": {},
   "outputs": [],
   "source": [
    "list(zip(names, ages))"
   ]
  },
  {
   "cell_type": "markdown",
   "id": "hybrid-massage",
   "metadata": {},
   "source": [
    "Different length iterables - what happens?"
   ]
  },
  {
   "cell_type": "code",
   "execution_count": null,
   "id": "working-reservation",
   "metadata": {},
   "outputs": [],
   "source": [
    "# TODO Try something out here with 2 different length lists"
   ]
  },
  {
   "cell_type": "markdown",
   "id": "attractive-cabinet",
   "metadata": {},
   "source": [
    "## La totale!\n",
    "Let's mix up the different functions all together to see the power of functional style programming."
   ]
  },
  {
   "cell_type": "code",
   "execution_count": null,
   "id": "oriented-shirt",
   "metadata": {},
   "outputs": [],
   "source": [
    "players = zip(names, games, ages)\n",
    "adultPlayers = filter(lambda p: p[2] >= 18, players)\n",
    "likes = map(lambda p: f\"{p[0]}, age {p[2]}, likes playing {p[1]}\", adultPlayers)\n",
    "\n",
    "print(list(likes))"
   ]
  },
  {
   "cell_type": "markdown",
   "id": "partial-carrier",
   "metadata": {},
   "source": [
    "# Motivation\n",
    "\n",
    "Why use functional style? It is a way to transform data in few lines, useful for computations, mapping e.g. entity to DTO, filtering (obviously) and more, without using for loops. Still, use for loops when multiple steps are involved - loops exist for a reason!"
   ]
  }
 ],
 "metadata": {
  "kernelspec": {
   "display_name": "Python 3",
   "language": "python",
   "name": "python3"
  },
  "language_info": {
   "codemirror_mode": {
    "name": "ipython",
    "version": 3
   },
   "file_extension": ".py",
   "mimetype": "text/x-python",
   "name": "python",
   "nbconvert_exporter": "python",
   "pygments_lexer": "ipython3",
   "version": "3.9.1"
  }
 },
 "nbformat": 4,
 "nbformat_minor": 5
}
