{
 "cells": [
  {
   "cell_type": "markdown",
   "id": "round-culture",
   "metadata": {},
   "source": [
    "# Welcome! Bienvenu!"
   ]
  },
  {
   "cell_type": "markdown",
   "id": "approximate-landscape",
   "metadata": {},
   "source": [
    "Je suis un Jupyter Notebook. Tu peux m'imaginer comme une console de programmation, mais en beau et pratique! Je connais le markdown pour des commentaires, je sais exécuter ton code Python, montrer des images, et bien plus que ça.\n",
    "\n",
    "Commençons par un petit tour!\n",
    "\n",
    "* Chaque bloc peut contenir soit du code, soit du markdown\n",
    "* Execution: SHIFT + ENTER (ou clique sur \"play\" pour executer *tout* les blocs)\n",
    "* Les résultats sont affichés en dessous de chaque bloc"
   ]
  },
  {
   "cell_type": "code",
   "execution_count": 23,
   "id": "mysterious-seven",
   "metadata": {},
   "outputs": [
    {
     "name": "stdout",
     "output_type": "stream",
     "text": [
      "This is Python\n"
     ]
    }
   ],
   "source": [
    "print(\"This is Python\")"
   ]
  },
  {
   "cell_type": "code",
   "execution_count": null,
   "id": "graphic-sterling",
   "metadata": {},
   "outputs": [],
   "source": [
    "print(\"C'est ton tour à exécuter...GO!\")"
   ]
  },
  {
   "cell_type": "markdown",
   "id": "appointed-tourist",
   "metadata": {},
   "source": [
    "# Les types dans Python"
   ]
  },
  {
   "cell_type": "code",
   "execution_count": null,
   "id": "overall-anthropology",
   "metadata": {},
   "outputs": [],
   "source": [
    "firstName = \"Stephen\"\n",
    "lastName = \"Hawking\""
   ]
  },
  {
   "cell_type": "code",
   "execution_count": null,
   "id": "clear-porter",
   "metadata": {},
   "outputs": [],
   "source": [
    "firstName + \" \" + lastName # String concatenation"
   ]
  },
  {
   "cell_type": "code",
   "execution_count": null,
   "id": "beginning-ridge",
   "metadata": {},
   "outputs": [],
   "source": [
    "f\"{firstName} {lastName}\" # String interpolation"
   ]
  },
  {
   "cell_type": "code",
   "execution_count": null,
   "id": "contrary-craft",
   "metadata": {},
   "outputs": [],
   "source": [
    "apples = 12\n",
    "oranges = 6\n",
    "\n",
    "print(apples + oranges)"
   ]
  },
  {
   "cell_type": "code",
   "execution_count": null,
   "id": "sustained-duncan",
   "metadata": {},
   "outputs": [],
   "source": [
    "100 / 3"
   ]
  },
  {
   "cell_type": "code",
   "execution_count": null,
   "id": "young-gamma",
   "metadata": {},
   "outputs": [],
   "source": [
    "print(\"5:\", type(5))\n",
    "print(\"12.5:\", type(12.5))\n",
    "print(\"True:\", type(True))\n",
    "print(\"\\\"John\\\":\", type(\"John\"))"
   ]
  },
  {
   "cell_type": "markdown",
   "id": "grand-genius",
   "metadata": {},
   "source": [
    "# Structures de données"
   ]
  },
  {
   "cell_type": "markdown",
   "id": "headed-threshold",
   "metadata": {},
   "source": [
    "## Dictionary"
   ]
  },
  {
   "cell_type": "code",
   "execution_count": null,
   "id": "anonymous-stick",
   "metadata": {},
   "outputs": [],
   "source": [
    "# Dict (Dictionary, Map)\n",
    "peopleAges = {\n",
    "    \"Bonnie\": 36,\n",
    "    \"Clyde\": 39,\n",
    "    \"Dave\": 14,\n",
    "    \"Esmeralda\": 63,\n",
    "    \"Fritz\": 72\n",
    "}"
   ]
  },
  {
   "cell_type": "code",
   "execution_count": null,
   "id": "classical-president",
   "metadata": {},
   "outputs": [],
   "source": [
    "type(peopleAges)"
   ]
  },
  {
   "cell_type": "code",
   "execution_count": null,
   "id": "large-wings",
   "metadata": {},
   "outputs": [],
   "source": [
    "peopleAges['Bonnie']"
   ]
  },
  {
   "cell_type": "code",
   "execution_count": null,
   "id": "constant-return",
   "metadata": {},
   "outputs": [],
   "source": [
    "ageSum = 0\n",
    "for v in peopleAges.values():\n",
    "    ageSum += v\n",
    "\n",
    "print(\"Total:\", ageSum)"
   ]
  },
  {
   "cell_type": "markdown",
   "id": "informative-channel",
   "metadata": {},
   "source": [
    "#### [?] Quel âge a Clyde?"
   ]
  },
  {
   "cell_type": "code",
   "execution_count": null,
   "id": "functioning-demand",
   "metadata": {},
   "outputs": [],
   "source": []
  },
  {
   "cell_type": "markdown",
   "id": "hired-territory",
   "metadata": {},
   "source": [
    "#### [?] Quel est l'âge moyenne?"
   ]
  },
  {
   "cell_type": "code",
   "execution_count": null,
   "id": "ongoing-yesterday",
   "metadata": {},
   "outputs": [],
   "source": []
  },
  {
   "cell_type": "markdown",
   "id": "impossible-today",
   "metadata": {},
   "source": [
    "## List"
   ]
  },
  {
   "cell_type": "code",
   "execution_count": null,
   "id": "changing-niger",
   "metadata": {},
   "outputs": [],
   "source": [
    "fruits = [\"Apple\", \"Orange\", \"Pear\"]"
   ]
  },
  {
   "cell_type": "code",
   "execution_count": null,
   "id": "congressional-muscle",
   "metadata": {},
   "outputs": [],
   "source": [
    "fruits[1]"
   ]
  },
  {
   "cell_type": "code",
   "execution_count": null,
   "id": "stretch-investigator",
   "metadata": {},
   "outputs": [],
   "source": [
    "fruits + [\"Banana\"]"
   ]
  },
  {
   "cell_type": "code",
   "execution_count": null,
   "id": "sacred-sensitivity",
   "metadata": {},
   "outputs": [],
   "source": [
    "fruits2 = fruits.copy()\n",
    "fruits2 += [\"Banana\"]\n",
    "print(fruits2)"
   ]
  },
  {
   "cell_type": "code",
   "execution_count": null,
   "id": "alone-education",
   "metadata": {},
   "outputs": [],
   "source": [
    "fruits2 = fruits.copy()\n",
    "fruits2 += \"Banana\"\n",
    "fruits2"
   ]
  },
  {
   "cell_type": "markdown",
   "id": "thorough-lindsay",
   "metadata": {},
   "source": [
    "**[?] Qu'est-ce qu'il c'est passé là?**"
   ]
  },
  {
   "cell_type": "markdown",
   "id": "multiple-prefix",
   "metadata": {},
   "source": [
    "## Tuple\n",
    "\n",
    "Simplifié, les tuples sont comme des listes, mais peuvent avoir des types spécifiques à chaque position. Utile pour créer des structure à la volée. Parfois utilisé pour passer des paramètres."
   ]
  },
  {
   "cell_type": "code",
   "execution_count": null,
   "id": "overhead-smith",
   "metadata": {},
   "outputs": [],
   "source": [
    "person = ('Bob', 'Marley', 1945)"
   ]
  },
  {
   "cell_type": "code",
   "execution_count": null,
   "id": "strategic-truck",
   "metadata": {},
   "outputs": [],
   "source": [
    "type(person)"
   ]
  },
  {
   "cell_type": "code",
   "execution_count": null,
   "id": "numeric-recipe",
   "metadata": {},
   "outputs": [],
   "source": [
    "print(\"{} {} est né en {}\".format(person[0], person[1], person[2]))"
   ]
  },
  {
   "cell_type": "code",
   "execution_count": null,
   "id": "martial-surgeon",
   "metadata": {},
   "outputs": [],
   "source": [
    "# Extraction des valeurs d'un tuple\n",
    "firstName, lastName, birthYear = person"
   ]
  },
  {
   "cell_type": "code",
   "execution_count": null,
   "id": "nutritional-found",
   "metadata": {},
   "outputs": [],
   "source": [
    "print(\"{} {} est né en {}\".format(firstName, lastName, birthYear))"
   ]
  },
  {
   "cell_type": "code",
   "execution_count": null,
   "id": "classical-hollow",
   "metadata": {},
   "outputs": [],
   "source": []
  }
 ],
 "metadata": {
  "kernelspec": {
   "display_name": "Python 3",
   "language": "python",
   "name": "python3"
  },
  "language_info": {
   "codemirror_mode": {
    "name": "ipython",
    "version": 3
   },
   "file_extension": ".py",
   "mimetype": "text/x-python",
   "name": "python",
   "nbconvert_exporter": "python",
   "pygments_lexer": "ipython3",
   "version": "3.9.1"
  }
 },
 "nbformat": 4,
 "nbformat_minor": 5
}
