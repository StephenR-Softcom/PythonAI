{
 "cells": [
  {
   "cell_type": "markdown",
   "id": "gross-occupation",
   "metadata": {},
   "source": [
    "# Python Modules & Packages"
   ]
  },
  {
   "cell_type": "code",
   "execution_count": null,
   "id": "former-aircraft",
   "metadata": {},
   "outputs": [],
   "source": [
    "# math is an integrated Python module\n",
    "# import the module by name\n",
    "import math"
   ]
  },
  {
   "cell_type": "code",
   "execution_count": null,
   "id": "becoming-madison",
   "metadata": {},
   "outputs": [],
   "source": [
    "math.log2(512)"
   ]
  },
  {
   "cell_type": "code",
   "execution_count": null,
   "id": "informational-movie",
   "metadata": {},
   "outputs": [],
   "source": [
    "from math import log2  # specific import from a module"
   ]
  },
  {
   "cell_type": "code",
   "execution_count": null,
   "id": "formal-church",
   "metadata": {},
   "outputs": [],
   "source": [
    "log2(512)"
   ]
  },
  {
   "cell_type": "markdown",
   "id": "olympic-conspiracy",
   "metadata": {},
   "source": [
    "## Package example: Matplotlib\n",
    "\n",
    "It's time to install a package! In your shell, run: `pip install matplotlib`"
   ]
  },
  {
   "cell_type": "code",
   "execution_count": null,
   "id": "expanded-while",
   "metadata": {},
   "outputs": [],
   "source": [
    "# Import matplotlib package, commonly imported using the \"plt\" alias\n",
    "import matplotlib.pyplot as plt"
   ]
  },
  {
   "cell_type": "code",
   "execution_count": null,
   "id": "comprehensive-zoning",
   "metadata": {},
   "outputs": [],
   "source": [
    "plt.plot([16,9,4,1,0,1,4,9,16]);  # semi-colon: hide output"
   ]
  },
  {
   "cell_type": "markdown",
   "id": "protected-communist",
   "metadata": {},
   "source": [
    "You see, notebooks can display graphics too"
   ]
  },
  {
   "cell_type": "code",
   "execution_count": null,
   "id": "editorial-increase",
   "metadata": {},
   "outputs": [],
   "source": [
    "# numpy works nicely with matplotlib for working with numbers\n",
    "import numpy as np"
   ]
  },
  {
   "cell_type": "code",
   "execution_count": null,
   "id": "packed-berkeley",
   "metadata": {},
   "outputs": [],
   "source": [
    "y = np.array([i**2 for i in range(-4, 5)])"
   ]
  },
  {
   "cell_type": "code",
   "execution_count": null,
   "id": "qualified-germany",
   "metadata": {},
   "outputs": [],
   "source": [
    "y"
   ]
  },
  {
   "cell_type": "code",
   "execution_count": null,
   "id": "interested-detector",
   "metadata": {},
   "outputs": [],
   "source": [
    "plt.plot(y);"
   ]
  },
  {
   "cell_type": "code",
   "execution_count": null,
   "id": "fifteen-radius",
   "metadata": {},
   "outputs": [],
   "source": [
    "random_nums = np.random.randint(0, 10, size=(6,2))"
   ]
  },
  {
   "cell_type": "code",
   "execution_count": null,
   "id": "removable-promotion",
   "metadata": {},
   "outputs": [],
   "source": [
    "random_nums"
   ]
  },
  {
   "cell_type": "code",
   "execution_count": null,
   "id": "empirical-trigger",
   "metadata": {},
   "outputs": [],
   "source": [
    "x = random_nums[:,0] # Select axis 0\n",
    "x"
   ]
  },
  {
   "cell_type": "code",
   "execution_count": null,
   "id": "rational-profession",
   "metadata": {},
   "outputs": [],
   "source": [
    "y = random_nums[:,1] # Select axis 1\n",
    "y"
   ]
  },
  {
   "cell_type": "code",
   "execution_count": null,
   "id": "outstanding-advice",
   "metadata": {},
   "outputs": [],
   "source": [
    "plt.xlim(0, 10);\n",
    "plt.ylim(0, 10);\n",
    "plt.title(\"Random numbers in 2D\")\n",
    "\n",
    "plt.scatter(x=x, y=y);"
   ]
  },
  {
   "cell_type": "markdown",
   "id": "sapphire-reception",
   "metadata": {},
   "source": [
    "Have an idea for a plot or image? See http://matplotlib.org for how it can be done."
   ]
  },
  {
   "cell_type": "markdown",
   "id": "empirical-turner",
   "metadata": {},
   "source": [
    "PS: You will surely meet numpy and matplotlib again in data science / AI !"
   ]
  },
  {
   "cell_type": "code",
   "execution_count": null,
   "id": "retained-california",
   "metadata": {},
   "outputs": [],
   "source": []
  }
 ],
 "metadata": {
  "kernelspec": {
   "display_name": "Python 3",
   "language": "python",
   "name": "python3"
  },
  "language_info": {
   "codemirror_mode": {
    "name": "ipython",
    "version": 3
   },
   "file_extension": ".py",
   "mimetype": "text/x-python",
   "name": "python",
   "nbconvert_exporter": "python",
   "pygments_lexer": "ipython3",
   "version": "3.9.1"
  }
 },
 "nbformat": 4,
 "nbformat_minor": 5
}
