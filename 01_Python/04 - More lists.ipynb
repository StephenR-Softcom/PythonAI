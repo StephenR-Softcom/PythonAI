{
 "cells": [
  {
   "cell_type": "markdown",
   "id": "irish-jacob",
   "metadata": {},
   "source": [
    "# More lists\n",
    "\n",
    "What can we do with lists? Indexing and slicing in Python is fun!\n",
    "\n",
    "See also:\n",
    "* https://holypython.com/beginner-python-lessons/lesson-6-python-lists/\n",
    "* https://holypython.com/beginner-python-lessons/lesson-17-slicing/"
   ]
  },
  {
   "cell_type": "markdown",
   "id": "distant-delicious",
   "metadata": {},
   "source": [
    "### List slicing\n",
    "There are different ways of accessing list elements. List slicing allows to access ranges (start, end) and also to jump indices (e.g. every second item).\n",
    "\n",
    "Slicing can be used for:\n",
    "* Extracting parts of lists\n",
    "* Extracting parts of tuples\n",
    "* Accessing substrings in strings (because strings are lists of characters)"
   ]
  },
  {
   "cell_type": "code",
   "execution_count": null,
   "id": "prepared-tsunami",
   "metadata": {},
   "outputs": [],
   "source": [
    "message = \"Hello world\"\n",
    "message[0]"
   ]
  },
  {
   "cell_type": "code",
   "execution_count": null,
   "id": "united-threshold",
   "metadata": {},
   "outputs": [],
   "source": [
    "message[0:5]"
   ]
  },
  {
   "cell_type": "code",
   "execution_count": null,
   "id": "parental-catalog",
   "metadata": {},
   "outputs": [],
   "source": [
    "message[0::2]"
   ]
  },
  {
   "cell_type": "code",
   "execution_count": null,
   "id": "dangerous-twist",
   "metadata": {},
   "outputs": [],
   "source": [
    "message[6::] # Start at 6, take all, default step size"
   ]
  },
  {
   "cell_type": "code",
   "execution_count": null,
   "id": "metropolitan-great",
   "metadata": {},
   "outputs": [],
   "source": [
    "message[6::2] # Start at 6, take all, every 2nd"
   ]
  }
 ],
 "metadata": {
  "kernelspec": {
   "display_name": "Python 3",
   "language": "python",
   "name": "python3"
  },
  "language_info": {
   "codemirror_mode": {
    "name": "ipython",
    "version": 3
   },
   "file_extension": ".py",
   "mimetype": "text/x-python",
   "name": "python",
   "nbconvert_exporter": "python",
   "pygments_lexer": "ipython3",
   "version": "3.9.1"
  }
 },
 "nbformat": 4,
 "nbformat_minor": 5
}
